{
 "cells": [
  {
   "cell_type": "markdown",
   "metadata": {},
   "source": [
    "# Connecting SQL Lab"
   ]
  },
  {
   "cell_type": "markdown",
   "metadata": {},
   "source": [
    "### Introduction"
   ]
  },
  {
   "cell_type": "markdown",
   "metadata": {},
   "source": [
    "In this lab, we'll build our own dynamic website for `squawk.io`.  Let's get started. "
   ]
  },
  {
   "cell_type": "markdown",
   "metadata": {},
   "source": [
    "### Initializing our Application"
   ]
  },
  {
   "cell_type": "markdown",
   "metadata": {},
   "source": [
    "1. Let's start by creating a file called `app.py`.  \n",
    "2. Then add a route so that when we visit root url, we see `Welcome to squawk!`.\n",
    "3. Finally, run python app.py to see that the website run."
   ]
  },
  {
   "cell_type": "markdown",
   "metadata": {},
   "source": [
    "### Setting up some routes"
   ]
  },
  {
   "cell_type": "markdown",
   "metadata": {},
   "source": [
    "Next let's set up some additional routes for our webpage.  "
   ]
  },
  {
   "cell_type": "markdown",
   "metadata": {},
   "source": [
    "A. Setting up the root url"
   ]
  },
  {
   "cell_type": "markdown",
   "metadata": {},
   "source": [
    "1. Create a file called `index.html`, that has the content:\n",
    "    ```html\n",
    "    <h1> Welcome to squawk.io</h1>\n",
    "    ```\n",
    "2. Change the root url so that the content in the `index.html` page is now displayed.  The `index.html` page should be in the `views` folder.\n",
    "3. **Bonus**: For a prettier homepage, we can use Yelp's html simply by [going here](view-source:https://www.yelp.com/) and copying this into our `index.html` file."
   ]
  },
  {
   "cell_type": "markdown",
   "metadata": {},
   "source": [
    "B. Setting up the other routes"
   ]
  },
  {
   "cell_type": "markdown",
   "metadata": {},
   "source": [
    "1. The `restaurants` route.\n",
    "    * Next let's change the restaurants route so that upon hitting the url, we go to the `restaurants.html` file.  There we can have the following html:\n",
    "    \n",
    "```html\n",
    "<ul>\n",
    "    <li> Chipotle </li>\n",
    "    <li> Five Guys </li>\n",
    "    <li> Sweetgreen </li>\n",
    "</ul>\n",
    "```"
   ]
  },
  {
   "cell_type": "markdown",
   "metadata": {},
   "source": [
    "2. The restaurant route"
   ]
  },
  {
   "cell_type": "markdown",
   "metadata": {},
   "source": [
    "* Then for the `restaurants/<restaurant_name>` route also use render template so that each page displays the restaurant name."
   ]
  },
  {
   "cell_type": "markdown",
   "metadata": {},
   "source": [
    "### Adding SQL"
   ]
  },
  {
   "cell_type": "markdown",
   "metadata": {},
   "source": [
    "* Setting up our data"
   ]
  },
  {
   "cell_type": "code",
   "execution_count": 3,
   "metadata": {},
   "outputs": [],
   "source": [
    "url = \"https://raw.githubusercontent.com/ledeprogram/courses/master/foundations/mapping/tilemill/yelp-lunch-nyc.csv\""
   ]
  },
  {
   "cell_type": "code",
   "execution_count": 5,
   "metadata": {},
   "outputs": [],
   "source": [
    "import sqlite3\n",
    "import pandas as pd\n",
    "df = pd.read_csv(url)\n",
    "conn = sqlite3.connect('restaurants')\n",
    "df.to_sql('restaurants', conn, index = False)"
   ]
  },
  {
   "cell_type": "code",
   "execution_count": 6,
   "metadata": {},
   "outputs": [
    {
     "data": {
      "text/html": [
       "<div>\n",
       "<style scoped>\n",
       "    .dataframe tbody tr th:only-of-type {\n",
       "        vertical-align: middle;\n",
       "    }\n",
       "\n",
       "    .dataframe tbody tr th {\n",
       "        vertical-align: top;\n",
       "    }\n",
       "\n",
       "    .dataframe thead th {\n",
       "        text-align: right;\n",
       "    }\n",
       "</style>\n",
       "<table border=\"1\" class=\"dataframe\">\n",
       "  <thead>\n",
       "    <tr style=\"text-align: right;\">\n",
       "      <th></th>\n",
       "      <th>Name</th>\n",
       "      <th>Address</th>\n",
       "      <th>City</th>\n",
       "      <th>Category</th>\n",
       "      <th>Rating</th>\n",
       "      <th>URL</th>\n",
       "    </tr>\n",
       "  </thead>\n",
       "  <tbody>\n",
       "    <tr>\n",
       "      <td>0</td>\n",
       "      <td>Rambling House</td>\n",
       "      <td>4292 Katonah Ave</td>\n",
       "      <td>Bronx</td>\n",
       "      <td>Pubs</td>\n",
       "      <td>4.0</td>\n",
       "      <td>http://www.yelp.com/biz/rambling-house-bronx</td>\n",
       "    </tr>\n",
       "    <tr>\n",
       "      <td>1</td>\n",
       "      <td>Curry Spot</td>\n",
       "      <td>4268 Katonah Ave</td>\n",
       "      <td>Bronx</td>\n",
       "      <td>Indian</td>\n",
       "      <td>4.0</td>\n",
       "      <td>http://www.yelp.com/biz/curry-spot-bronx</td>\n",
       "    </tr>\n",
       "    <tr>\n",
       "      <td>2</td>\n",
       "      <td>Eileens Country Kitchen</td>\n",
       "      <td>964 McLean Ave</td>\n",
       "      <td>Yonkers</td>\n",
       "      <td>American (Traditional)</td>\n",
       "      <td>3.5</td>\n",
       "      <td>http://www.yelp.com/biz/eileens-country-kitche...</td>\n",
       "    </tr>\n",
       "    <tr>\n",
       "      <td>3</td>\n",
       "      <td>Ali's Roti Shop</td>\n",
       "      <td>4220 White Plains Rd</td>\n",
       "      <td>Bronx</td>\n",
       "      <td>Trinidadian</td>\n",
       "      <td>4.0</td>\n",
       "      <td>http://www.yelp.com/biz/alis-roti-shop-bronx</td>\n",
       "    </tr>\n",
       "  </tbody>\n",
       "</table>\n",
       "</div>"
      ],
      "text/plain": [
       "                      Name               Address     City  \\\n",
       "0           Rambling House      4292 Katonah Ave    Bronx   \n",
       "1               Curry Spot      4268 Katonah Ave    Bronx   \n",
       "2  Eileens Country Kitchen        964 McLean Ave  Yonkers   \n",
       "3          Ali's Roti Shop  4220 White Plains Rd    Bronx   \n",
       "\n",
       "                 Category  Rating  \\\n",
       "0                    Pubs     4.0   \n",
       "1                  Indian     4.0   \n",
       "2  American (Traditional)     3.5   \n",
       "3             Trinidadian     4.0   \n",
       "\n",
       "                                                 URL  \n",
       "0       http://www.yelp.com/biz/rambling-house-bronx  \n",
       "1           http://www.yelp.com/biz/curry-spot-bronx  \n",
       "2  http://www.yelp.com/biz/eileens-country-kitche...  \n",
       "3       http://www.yelp.com/biz/alis-roti-shop-bronx  "
      ]
     },
     "execution_count": 6,
     "metadata": {},
     "output_type": "execute_result"
    }
   ],
   "source": [
    "pd.read_sql('select * from restaurants limit 4', conn)"
   ]
  },
  {
   "cell_type": "markdown",
   "metadata": {},
   "source": [
    "1. Connecting our App to a database"
   ]
  },
  {
   "cell_type": "markdown",
   "metadata": {},
   "source": [
    "Next, let's use data from our database in our application.  We can connect our application to a database with something like the following:"
   ]
  },
  {
   "cell_type": "markdown",
   "metadata": {},
   "source": [
    "```python\n",
    "app.config.update(dict(\n",
    "    DATABASE=os.path.join(app.root_path, 'database_name.db'),\n",
    "))\n",
    "```"
   ]
  },
  {
   "cell_type": "markdown",
   "metadata": {},
   "source": [
    "> Just replace `database_name` with the name of the database."
   ]
  },
  {
   "cell_type": "markdown",
   "metadata": {},
   "source": [
    "2. Then, let's update our show an individual restaurant route:\n",
    "* First, change our route so that a user can pass in a restaurant id through the url.  \n",
    "* Second, will need to sql to make the appropriate query.  We can connect to our database with the following:"
   ]
  },
  {
   "cell_type": "markdown",
   "metadata": {},
   "source": [
    "```python\n",
    "conn = sqlite3.connect(app.config['DATABASE'])\n",
    "cursor = conn.cursor()\n",
    "```"
   ]
  },
  {
   "cell_type": "markdown",
   "metadata": {},
   "source": [
    "> As a check that things are setup properly, we display the information by returning `str()` the result of sql query.  "
   ]
  },
  {
   "cell_type": "markdown",
   "metadata": {},
   "source": [
    "* Third, let's now create a class called `Restaurant` that has the following attributes:\n",
    "    * name, id, cuisine, rating "
   ]
  },
  {
   "cell_type": "markdown",
   "metadata": {},
   "source": [
    "* Then, alter the show restaurant route, so that after the restaurant is found, it's data is initialized in the `Restaurant` class."
   ]
  },
  {
   "cell_type": "markdown",
   "metadata": {},
   "source": [
    "* Finally, use render template to display the information.  Pass the initialized `restaurant` object through the `render_template` method, and display the name, cuisine and rating of the restaurant."
   ]
  },
  {
   "cell_type": "markdown",
   "metadata": {},
   "source": [
    "### Summary"
   ]
  },
  {
   "cell_type": "code",
   "execution_count": null,
   "metadata": {},
   "outputs": [],
   "source": []
  }
 ],
 "metadata": {
  "kernelspec": {
   "display_name": "Python 3",
   "language": "python",
   "name": "python3"
  },
  "language_info": {
   "codemirror_mode": {
    "name": "ipython",
    "version": 3
   },
   "file_extension": ".py",
   "mimetype": "text/x-python",
   "name": "python",
   "nbconvert_exporter": "python",
   "pygments_lexer": "ipython3",
   "version": "3.7.4"
  }
 },
 "nbformat": 4,
 "nbformat_minor": 4
}
