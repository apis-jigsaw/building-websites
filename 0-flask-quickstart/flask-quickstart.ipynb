{
 "cells": [
  {
   "cell_type": "markdown",
   "metadata": {},
   "source": [
    "# Flask Quickstart"
   ]
  },
  {
   "cell_type": "markdown",
   "metadata": {},
   "source": [
    "### Introduction"
   ]
  },
  {
   "cell_type": "markdown",
   "metadata": {},
   "source": [
    "In this lesson, we'll get started with the popular `Flask` library for building websites.  Along, the way we'll also practice **reading documentation**, which perhaps is just as important as learning about websites."
   ]
  },
  {
   "cell_type": "markdown",
   "metadata": {},
   "source": [
    "### Getting Started with Flask"
   ]
  },
  {
   "cell_type": "markdown",
   "metadata": {},
   "source": [
    "If we haven't already, we can download the Flask library by running:\n",
    "\n",
    "`pip install Flask`."
   ]
  },
  {
   "cell_type": "markdown",
   "metadata": {},
   "source": [
    "Then, to see how to use the Flask library to create a website, let's look at the quickstart [quickstart](https://flask.palletsprojects.com/en/1.1.x/quickstart/).   \n",
    "\n",
    "1. Let's create a new file called `hello.py` and then follow along with the documentation:"
   ]
  },
  {
   "cell_type": "markdown",
   "metadata": {},
   "source": [
    "2. Let's copy and paste the code from the documentation into our `hello.py` file."
   ]
  },
  {
   "cell_type": "markdown",
   "metadata": {},
   "source": [
    "<img src=\"https://storage.cloud.google.com/curriculum-assets/mod-1/flask-websites/flask-code.png\" width=\"60%\">"
   ]
  },
  {
   "cell_type": "markdown",
   "metadata": {},
   "source": [
    "3. Then let's look at the documentation to see how to boot up the application."
   ]
  },
  {
   "cell_type": "markdown",
   "metadata": {},
   "source": [
    "> If we are on a Mac, from the terminal, we can do so with the following:\n",
    "> * `export FLASK_APP=hello.py`\n",
    "> * `flask run`"
   ]
  },
  {
   "cell_type": "markdown",
   "metadata": {},
   "source": [
    "> If on a Windows, read through the copied documentation below:"
   ]
  },
  {
   "cell_type": "markdown",
   "metadata": {},
   "source": [
    "<img src=\"https://storage.cloud.google.com/curriculum-assets/mod-1/flask-websites/running-the-app.png\" width=\"70%\">"
   ]
  },
  {
   "cell_type": "markdown",
   "metadata": {},
   "source": [
    "4. Then if we visit the address listed [http://127.0.0.1:5000/](http://127.0.0.1:5000/), we'll see our site."
   ]
  },
  {
   "cell_type": "markdown",
   "metadata": {},
   "source": [
    "<img src=\"https://storage.cloud.google.com/curriculum-assets/mod-1/flask-websites/beautiful-site.png\" width=\"50%\">"
   ]
  },
  {
   "cell_type": "markdown",
   "metadata": {},
   "source": [
    "Kinda nice, isn't it?"
   ]
  },
  {
   "cell_type": "markdown",
   "metadata": {},
   "source": [
    "### Understanding our code"
   ]
  },
  {
   "cell_type": "markdown",
   "metadata": {},
   "source": [
    "Ok, now that we got our website working let's take a moment to understand our code."
   ]
  },
  {
   "cell_type": "markdown",
   "metadata": {},
   "source": [
    "<img src=\"https://storage.cloud.google.com/curriculum-assets/mod-1/flask-websites/flask-code.png\" width=\"60%\">"
   ]
  },
  {
   "cell_type": "markdown",
   "metadata": {},
   "source": [
    "#### 1. Initializing the Application"
   ]
  },
  {
   "cell_type": "markdown",
   "metadata": {},
   "source": [
    "In the first line, we are importing the Flask class from a module called flask."
   ]
  },
  {
   "cell_type": "markdown",
   "metadata": {},
   "source": [
    "So we could imagine that in the top line, when we wrote `from flask import Flask`, there is a `flask` Python module with something like the following."
   ]
  },
  {
   "cell_type": "code",
   "execution_count": 2,
   "metadata": {},
   "outputs": [],
   "source": [
    "# flask.py\n",
    "class Flask:\n",
    "    def __init__(module_name):\n",
    "        self.module = module"
   ]
  },
  {
   "cell_type": "markdown",
   "metadata": {},
   "source": [
    "* In the line `app = Flask(__name__)`, the `__name__` represents the name of the file.  It tells Flask where the `app` lives."
   ]
  },
  {
   "cell_type": "markdown",
   "metadata": {},
   "source": [
    "#### 2. Building the Routes"
   ]
  },
  {
   "cell_type": "markdown",
   "metadata": {},
   "source": [
    "Next, we specify what will happen when we go to `/`.  When we go to `http://127.0.0.1:5000/`, or the root url, we see `Hello World`, as that is what is returned from the function.\n",
    "\n",
    "Let's understand this better by adding another webpage to our site.  We can update our code to look like the following:"
   ]
  },
  {
   "cell_type": "markdown",
   "metadata": {},
   "source": [
    "```python\n",
    "from flask import Flask\n",
    "app = Flask(__name__)\n",
    "\n",
    "@app.route('/')\n",
    "def hello_world():\n",
    "    return 'Hello, World!'\n",
    "\n",
    "@app.route('/players')\n",
    "def whatever():\n",
    "    return 'first player, second player '\n",
    "```"
   ]
  },
  {
   "cell_type": "markdown",
   "metadata": {},
   "source": [
    "Then if we shut down our server (by pressing `ctl + c`) and then restart it with `flask run`, we will see the impact of our changes."
   ]
  },
  {
   "cell_type": "markdown",
   "metadata": {},
   "source": [
    "We can go to [http://127.0.0.1:5000/players](http://127.0.0.1:5000/players) and see the following:"
   ]
  },
  {
   "cell_type": "markdown",
   "metadata": {},
   "source": [
    "<img src=\"https://storage.cloud.google.com/curriculum-assets/mod-1/flask-websites/players-url.png\" width=\"50%\">"
   ]
  },
  {
   "cell_type": "markdown",
   "metadata": {},
   "source": [
    "So looking at our code again, we can better understand what each line is doing."
   ]
  },
  {
   "cell_type": "markdown",
   "metadata": {},
   "source": [
    "```python\n",
    "from flask import Flask\n",
    "app = Flask(__name__)\n",
    "\n",
    "@app.route('/')\n",
    "def hello_world():\n",
    "    return 'Hello, World!'\n",
    "\n",
    "@app.route('/players')\n",
    "def whatever():\n",
    "    return 'first player, second player '\n",
    "```"
   ]
  },
  {
   "cell_type": "markdown",
   "metadata": {},
   "source": [
    "The argument provided to `app.route()`, specifies the different urls the web application will respond to.  And then the return value of the function below determines the response from each url.  The function name does not have an impact on our webpage, but of course, it is a good idea to keep it descriptive.  For example, above we could change the function `whatever` to `players`. "
   ]
  },
  {
   "cell_type": "markdown",
   "metadata": {},
   "source": [
    "### A couple of tweaks"
   ]
  },
  {
   "cell_type": "markdown",
   "metadata": {},
   "source": [
    "In the documentation, we run our application by going to the terminal and specifying the following:"
   ]
  },
  {
   "cell_type": "markdown",
   "metadata": {},
   "source": [
    "> * `export FLASK_APP=hello.py`\n",
    "> * `flask run`"
   ]
  },
  {
   "cell_type": "markdown",
   "metadata": {},
   "source": [
    "An alternative way is to add `app.run(debug = True)` to the bottom of our application code."
   ]
  },
  {
   "cell_type": "markdown",
   "metadata": {},
   "source": [
    "```python\n",
    "from flask import Flask\n",
    "app = Flask(__name__)\n",
    "\n",
    "@app.route('/')\n",
    "def hello_world():\n",
    "    return 'Hello, World!'\n",
    "\n",
    "@app.route('/players')\n",
    "def whatever():\n",
    "    return 'first player, second player '\n",
    "\n",
    "app.run(debug = True)\n",
    "```"
   ]
  },
  {
   "cell_type": "markdown",
   "metadata": {},
   "source": [
    "Adding that line does two things for us.  Just placing `app.run()` at the bottom of the file means that to start up our application we can simply run the file where our application lives:"
   ]
  },
  {
   "cell_type": "markdown",
   "metadata": {},
   "source": [
    "`python name_of_file.py`\n",
    "\n",
    "or here:\n",
    "\n",
    "`python hello.py`"
   ]
  },
  {
   "cell_type": "markdown",
   "metadata": {},
   "source": [
    "And second, because we placed `debug = True`, this means that we can make changes to our application, and see those changes, without first having to shutdown our application with `ctl + c` and then booting back up that application."
   ]
  },
  {
   "cell_type": "markdown",
   "metadata": {},
   "source": [
    "### Summary"
   ]
  },
  {
   "cell_type": "markdown",
   "metadata": {},
   "source": [
    "In this lesson, we got started with Flask. We saw that we can begin using flask by importing the `Flask` class from our `flask` module, and then defining our routes.  Each route indicates what occurs when a user visits a different url.  So, to return `hello world` when a user visits the `/` url, we write the following:\n",
    "```python\n",
    "@app.route('/')\n",
    "def hello_world():\n",
    "    return 'Hello, World!'\n",
    "```\n",
    "\n",
    "And to return `first player, second player` when a user visits the `/players` url, we can return the following:\n",
    "\n",
    "```python\n",
    "@app.route('/players')\n",
    "def hello_world():\n",
    "    return 'first player, second player'\n",
    "```"
   ]
  },
  {
   "cell_type": "markdown",
   "metadata": {},
   "source": [
    "Finally, we add:"
   ]
  },
  {
   "cell_type": "markdown",
   "metadata": {},
   "source": [
    "```python\n",
    "app.run(debug = True)\n",
    "```"
   ]
  },
  {
   "cell_type": "markdown",
   "metadata": {},
   "source": [
    "Which allows us to start our application without the lines:\n",
    "\n",
    "> * `export FLASK_APP=hello.py`\n",
    "> * `flask run`\n",
    "\n",
    "from the terminal."
   ]
  },
  {
   "cell_type": "markdown",
   "metadata": {},
   "source": [
    "We simply start the application by running the file, with `python name_of_file.py`."
   ]
  }
 ],
 "metadata": {
  "kernelspec": {
   "display_name": "Python 3",
   "language": "python",
   "name": "python3"
  },
  "language_info": {
   "codemirror_mode": {
    "name": "ipython",
    "version": 3
   },
   "file_extension": ".py",
   "mimetype": "text/x-python",
   "name": "python",
   "nbconvert_exporter": "python",
   "pygments_lexer": "ipython3",
   "version": "3.7.4"
  }
 },
 "nbformat": 4,
 "nbformat_minor": 4
}
