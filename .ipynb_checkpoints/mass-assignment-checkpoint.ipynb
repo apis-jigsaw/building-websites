{
 "cells": [
  {
   "cell_type": "markdown",
   "id": "78992fb8-63f7-4fc2-a744-fdd247a0e6a3",
   "metadata": {},
   "source": [
    "# Mass Assignment Challenge"
   ]
  },
  {
   "cell_type": "code",
   "execution_count": 1,
   "id": "867509af-0837-4e8f-83cd-448259219f66",
   "metadata": {},
   "outputs": [],
   "source": [
    "class Student:\n",
    "    pass"
   ]
  },
  {
   "cell_type": "markdown",
   "id": "a4795977-a46f-46ed-b197-aa015dd7552c",
   "metadata": {},
   "source": [
    "Now let's say that we have columns of `name` and `age`.  As a first step, allow us to take a tuple, and create a student instance out of it."
   ]
  },
  {
   "cell_type": "code",
   "execution_count": 2,
   "id": "eac75796-ba8b-46af-8a73-19e4d87bcc0c",
   "metadata": {},
   "outputs": [],
   "source": [
    "values = ('bob', 21)\n",
    "\n",
    "student = Student()"
   ]
  },
  {
   "cell_type": "code",
   "execution_count": null,
   "id": "cbb255b8-af21-48f9-91df-bfba2eceac01",
   "metadata": {},
   "outputs": [],
   "source": [
    "student.name\n",
    "# 'bob'"
   ]
  },
  {
   "cell_type": "code",
   "execution_count": null,
   "id": "dad2ba16-5c2f-4ba0-8512-45dbbb75139e",
   "metadata": {},
   "outputs": [],
   "source": [
    "student.age\n",
    "\n",
    "# 21"
   ]
  },
  {
   "cell_type": "markdown",
   "id": "f8216347-b7eb-4559-a77a-b21e8891809a",
   "metadata": {},
   "source": [
    "Next change the class so that it can take a keyword arguments.  For example, we should be able to call the following: "
   ]
  },
  {
   "cell_type": "code",
   "execution_count": null,
   "id": "ed0a5cdb-8dd5-42b7-b6ae-9aa70961269e",
   "metadata": {},
   "outputs": [],
   "source": [
    "# student = Student(name = 'bob', age = 21)\n",
    "\n",
    "student.name\n",
    "# 'bob'"
   ]
  },
  {
   "cell_type": "code",
   "execution_count": null,
   "id": "ca0cd701-4c5d-4488-9855-30d4b74db0cb",
   "metadata": {},
   "outputs": [],
   "source": [
    "student.age\n",
    "\n",
    "# 21"
   ]
  },
  {
   "cell_type": "markdown",
   "id": "284690f0-4a89-452e-aa97-796f9ee2aefd",
   "metadata": {},
   "source": [
    "And it should throw an error if we pass through a value that there is not a column for."
   ]
  },
  {
   "cell_type": "code",
   "execution_count": null,
   "id": "d9b3fac8-8663-45a5-b04e-b856d9e2aa30",
   "metadata": {},
   "outputs": [],
   "source": [
    "# student = Student(name = 'bob', age = 21, whatever = 'foo')\n",
    "\n",
    "# this should raise an error"
   ]
  },
  {
   "cell_type": "markdown",
   "id": "92f92141-807d-46fa-95ed-de18b94feca2",
   "metadata": {},
   "source": [
    "Finally, can you keep the class the same, but pass take a tuple of values, pair it with attributes to turn it into a dictionary, and then initialize a student with that dictionary?\n",
    "\n",
    "> We'll start with you with the values."
   ]
  },
  {
   "cell_type": "code",
   "execution_count": null,
   "id": "679b16ab-9342-445b-9f18-8a9b9018fd96",
   "metadata": {},
   "outputs": [],
   "source": [
    "values = ('bob', 21)"
   ]
  }
 ],
 "metadata": {
  "kernelspec": {
   "display_name": "Python 3 (ipykernel)",
   "language": "python",
   "name": "python3"
  },
  "language_info": {
   "codemirror_mode": {
    "name": "ipython",
    "version": 3
   },
   "file_extension": ".py",
   "mimetype": "text/x-python",
   "name": "python",
   "nbconvert_exporter": "python",
   "pygments_lexer": "ipython3",
   "version": "3.9.12"
  }
 },
 "nbformat": 4,
 "nbformat_minor": 5
}
