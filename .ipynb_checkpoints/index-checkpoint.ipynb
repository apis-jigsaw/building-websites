{
 "cells": [
  {
   "cell_type": "markdown",
   "metadata": {},
   "source": [
    "# Functions and HTML"
   ]
  },
  {
   "cell_type": "markdown",
   "metadata": {},
   "source": [
    "### Introduction"
   ]
  },
  {
   "cell_type": "markdown",
   "metadata": {
    "colab_type": "text",
    "id": "Mle3QUd1nSED"
   },
   "source": [
    "Click [here](http://www.espn.com/nhl/player/_/id/1569/rick-nash), and then click [here](http://www.espn.com/nhl/player/_/id/3081/henrik-lundqvist).  We see two websites that describe two different players, but each website is actually pretty similar. \n"
   ]
  },
  {
   "cell_type": "markdown",
   "metadata": {},
   "source": [
    "<img src=\"./rick-nash.png\" width=\"50%\">"
   ]
  },
  {
   "cell_type": "markdown",
   "metadata": {},
   "source": [
    "<img src=\"./henrik-picture.png\" width=\"50%\">"
   ]
  },
  {
   "cell_type": "markdown",
   "metadata": {},
   "source": [
    "## It's pretty similar underneath"
   ]
  },
  {
   "cell_type": "markdown",
   "metadata": {},
   "source": [
    "Now let's take a look at the HTML.\n",
    "\n",
    ">Remember, we can view the HTML of a webpage by pressing `command+shift+c` or `control+shift+c` on a pc.  \n",
    "> Or by going to the Chrome menu at the top, followed by `View -> Developer -> Developer Tools`.\n"
   ]
  },
  {
   "cell_type": "markdown",
   "metadata": {},
   "source": [
    "* Here is the HTML for Rick Nash"
   ]
  },
  {
   "cell_type": "markdown",
   "metadata": {},
   "source": [
    "<img src=\"./rick-nash-html.png\">"
   ]
  },
  {
   "cell_type": "markdown",
   "metadata": {},
   "source": [
    "* And here is the HTML for Henrik Lundqvist"
   ]
  },
  {
   "cell_type": "markdown",
   "metadata": {},
   "source": [
    "<img src=\"./henrik-html.png\">"
   ]
  },
  {
   "cell_type": "markdown",
   "metadata": {
    "colab_type": "text",
    "id": "GJdpLkCfoMnr"
   },
   "source": [
    "And remember that this HTML is really just a string.  So what we can imagine our ESPN website doing is slightly changing a string based on the website that a user visits."
   ]
  },
  {
   "cell_type": "markdown",
   "metadata": {},
   "source": [
    "And really, when we mean based on the website that a user visits, we mean based on the url at the top of the page.  For example take a look at our url for Henrik Lundqvist."
   ]
  },
  {
   "cell_type": "markdown",
   "metadata": {},
   "source": [
    "<img src=\"./henrik-url.png\" width=\"50%\">"
   ]
  },
  {
   "cell_type": "markdown",
   "metadata": {},
   "source": [
    "And now let's look at the url for Rick Nash."
   ]
  },
  {
   "cell_type": "markdown",
   "metadata": {},
   "source": [
    "<img src=\"./nash-url.png\" width=\"50%\">"
   ]
  },
  {
   "cell_type": "markdown",
   "metadata": {},
   "source": [
    "So we want something that can take in different user inputs and from there generate slightly different strings based on this input."
   ]
  },
  {
   "cell_type": "markdown",
   "metadata": {},
   "source": [
    "This seems like a job for functions.  Let's see how."
   ]
  },
  {
   "cell_type": "markdown",
   "metadata": {},
   "source": [
    "### Generating HTML with Functions"
   ]
  },
  {
   "cell_type": "markdown",
   "metadata": {},
   "source": [
    "Let's start with the following function, `playerHeading()`.  This function takes in a player's name and from there generates a heading with the player's name."
   ]
  },
  {
   "cell_type": "code",
   "execution_count": 1,
   "metadata": {
    "colab": {},
    "colab_type": "code",
    "id": "XAJyJLJDnlgr"
   },
   "outputs": [],
   "source": [
    "def playerHeading(playerName):\n",
    "    return f\"<h1> {playerName} </h1>\""
   ]
  },
  {
   "cell_type": "code",
   "execution_count": 11,
   "metadata": {},
   "outputs": [
    {
     "data": {
      "text/plain": [
       "'<h1> Rick Nash </h1>'"
      ]
     },
     "execution_count": 11,
     "metadata": {},
     "output_type": "execute_result"
    }
   ],
   "source": [
    "playerHeading(\"Rick Nash\")"
   ]
  },
  {
   "cell_type": "code",
   "execution_count": 2,
   "metadata": {},
   "outputs": [
    {
     "data": {
      "text/plain": [
       "'<h1> Henrik Lundqvist </h1>'"
      ]
     },
     "execution_count": 2,
     "metadata": {},
     "output_type": "execute_result"
    }
   ],
   "source": [
    "playerHeading(\"Henrik Lundqvist\")"
   ]
  },
  {
   "cell_type": "markdown",
   "metadata": {},
   "source": [
    "This may seem pretty simplistic, but conceptually, **this is** how websites work.  The website takes in an input from the user when the user visits a URL.  And then the website returns different HTML to the user's browser, which the browser then interprets. "
   ]
  },
  {
   "cell_type": "markdown",
   "metadata": {},
   "source": [
    "Now that we understand this idea, we can move onto building some real websites."
   ]
  },
  {
   "cell_type": "markdown",
   "metadata": {},
   "source": [
    "### Dynamic Websites in Flask"
   ]
  },
  {
   "cell_type": "markdown",
   "metadata": {},
   "source": [
    "In Flask, we can generate this with the following:"
   ]
  },
  {
   "cell_type": "markdown",
   "metadata": {},
   "source": [
    "```python\n",
    "from flask import Flask\n",
    "app = Flask(__name__)\n",
    "\n",
    "@app.route('/players/<name>')\n",
    "def show_player(name):\n",
    "    return f'Welcome to the page of: <h1> {name} </h1>' \n",
    "\n",
    "app.run(debug = True)\n",
    "```"
   ]
  },
  {
   "cell_type": "markdown",
   "metadata": {},
   "source": [
    "Now when we visit the page `/players/henrik` the web app will return the string `welcome to the webpage of <h1> henrik </h1>`."
   ]
  },
  {
   "cell_type": "markdown",
   "metadata": {},
   "source": [
    "Give it a shot."
   ]
  },
  {
   "cell_type": "markdown",
   "metadata": {},
   "source": [
    "Copy and paste the code above into a file called `app.py`, and then run `python app.py`."
   ]
  },
  {
   "cell_type": "markdown",
   "metadata": {},
   "source": [
    "<img src=\"./henrik.png\" width=\"50%\">"
   ]
  },
  {
   "cell_type": "markdown",
   "metadata": {},
   "source": [
    "<img src=\"./claude.png\" width=\"50%\">"
   ]
  },
  {
   "cell_type": "markdown",
   "metadata": {},
   "source": [
    "### Breaking it Down"
   ]
  },
  {
   "cell_type": "markdown",
   "metadata": {},
   "source": [
    "Ok, now let's take some time to better understand the code that accomplished this.  Once again, here is our code:\n",
    "\n",
    "```python\n",
    "from flask import Flask\n",
    "app = Flask(__name__)\n",
    "\n",
    "@app.route('/players/<name>')\n",
    "def show_player(name):\n",
    "    return f'Welcome to the page of: <h1> {name} </h1>' \n",
    "\n",
    "app.run(debug = True)\n",
    "```"
   ]
  },
  {
   "cell_type": "markdown",
   "metadata": {},
   "source": [
    "The first thing to notice is the argument to `@app.route`, which is `/players/<name>`."
   ]
  },
  {
   "cell_type": "markdown",
   "metadata": {},
   "source": [
    "Those brackets surrounding `player_name` indicate that the user can go to any url that has the pattern `/players/anything_else`.  And whatever the user types in after that second slash is passed to our `show_player` function as the `name` argument.  Then we use that argument to return the string below.  "
   ]
  },
  {
   "cell_type": "markdown",
   "metadata": {},
   "source": [
    "You can see this code live, by going to the [server.py file in the following link](https://glitch.com/embed/#!/embed/fanatical-magpie?path=server.py?path=server.py:7:0).  \n",
    "  \n",
    "Ok, let's start from the beginning to make sure that we understand:\n",
    "  \n",
    "  1. The user types in a url, or more likely clicks on a link to a url that specifies a player.  Like `www.espn.com/players/giroux`.  \n",
    "  2. This url comes into our `app.py` file, and our program sees that it matches the route:\n",
    "  `@app.route('/players/<player_name>')`, as it matches the pattern of  `/players` plus slash `something_else`.\n",
    "  3. That `something_else` gets passed to the function as an argument, here `player_name` and we can use that data to combine it with some HTML. \n"
   ]
  },
  {
   "cell_type": "markdown",
   "metadata": {},
   "source": [
    "Try it out by visiting different urls and seeing how the website's output changes."
   ]
  },
  {
   "cell_type": "markdown",
   "metadata": {},
   "source": [
    "### Summary"
   ]
  },
  {
   "cell_type": "markdown",
   "metadata": {},
   "source": [
    "In this lesson, we saw that the HTML behind many webpages are quite similar.  In building a website, we can generate slightly different webpages by taking in an input from the user, and having a function that returns a slightly different string of HTML.  \n",
    "\n",
    "```python\n",
    "def playerHeading(playerName):\n",
    "    return f\"<h1> {playerName} </h1>\"\n",
    "```"
   ]
  },
  {
   "cell_type": "markdown",
   "metadata": {},
   "source": [
    "Then we saw that we can use this same concept to build a dynamic website with the following code:"
   ]
  },
  {
   "cell_type": "markdown",
   "metadata": {},
   "source": [
    "```python\n",
    "from flask import Flask\n",
    "app = Flask(__name__)\n",
    "\n",
    "@app.route('/players/<name>')\n",
    "def show_player(name):\n",
    "    return f'Welcome to the page of: <h1> {name} </h1>' \n",
    "```"
   ]
  },
  {
   "cell_type": "markdown",
   "metadata": {},
   "source": [
    "With this code, as we visit new urls of `/players/<name>`, the web application responds with different strings."
   ]
  }
 ],
 "metadata": {
  "colab": {
   "name": "Combining HTML and Data.ipynb",
   "provenance": []
  },
  "kernelspec": {
   "display_name": "Python 3 (ipykernel)",
   "language": "python",
   "name": "python3"
  },
  "language_info": {
   "codemirror_mode": {
    "name": "ipython",
    "version": 3
   },
   "file_extension": ".py",
   "mimetype": "text/x-python",
   "name": "python",
   "nbconvert_exporter": "python",
   "pygments_lexer": "ipython3",
   "version": "3.9.12"
  }
 },
 "nbformat": 4,
 "nbformat_minor": 4
}
