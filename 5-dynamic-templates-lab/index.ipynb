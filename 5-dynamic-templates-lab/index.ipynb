{
 "cells": [
  {
   "cell_type": "markdown",
   "metadata": {},
   "source": [
    "# Dynamic Websites Lab"
   ]
  },
  {
   "cell_type": "markdown",
   "metadata": {},
   "source": [
    "### Introduction"
   ]
  },
  {
   "cell_type": "markdown",
   "metadata": {},
   "source": [
    "In this lab, we'll build our own dynamic website for `squawk.io`.  Let's get started. "
   ]
  },
  {
   "cell_type": "markdown",
   "metadata": {},
   "source": [
    "### Initializing our Application"
   ]
  },
  {
   "cell_type": "markdown",
   "metadata": {},
   "source": [
    "1. Let's start by creating a file called `app.py`.  \n",
    "2. Then add a route so that when we visit root url, we see `Welcome to squawk!`.\n",
    "3. Finally, run python app.py to see that the website run."
   ]
  },
  {
   "cell_type": "markdown",
   "metadata": {},
   "source": [
    "### Setting up some routes"
   ]
  },
  {
   "cell_type": "markdown",
   "metadata": {},
   "source": [
    "Next let's set up some additional routes for our webpage.  "
   ]
  },
  {
   "cell_type": "markdown",
   "metadata": {},
   "source": [
    "4. Add a route called `/restaurants` that **does not** use render template, but rather just returns the string `'sweetgreen, chipotle, five guys'`.\n",
    "5. Add a route called `/restaurants/name` that displays the name of the restaurant that the user visits.  Again do this without `render_template`.\n"
   ]
  },
  {
   "cell_type": "markdown",
   "metadata": {},
   "source": [
    "### Incorporating the Render Template Function"
   ]
  },
  {
   "cell_type": "markdown",
   "metadata": {},
   "source": [
    "Next, we'll use the `render_template` function to display our pages."
   ]
  },
  {
   "cell_type": "markdown",
   "metadata": {},
   "source": [
    "A. Setting up the root url"
   ]
  },
  {
   "cell_type": "markdown",
   "metadata": {},
   "source": [
    "1. Create a file called `index.html`, that has the content:\n",
    "    ```html\n",
    "    <h1> Welcome to squawk.io</h1>\n",
    "    ```\n",
    "2. Change the root url so that the content in the `index.html` page is now displayed.  The `index.html` page should be in the `views` folder.\n",
    "3. **Bonus**: For a prettier homepage, we can use Yelp's html simply by [going here](view-source:https://www.yelp.com/) and copying this into our `index.html` file."
   ]
  },
  {
   "cell_type": "markdown",
   "metadata": {},
   "source": [
    "B. Setting up the other routes"
   ]
  },
  {
   "cell_type": "markdown",
   "metadata": {},
   "source": [
    "1. The `restaurants` route.\n",
    "    * Next let's change the restaurants route so that upon hitting the url, we go to the `restaurants.html` file.  There we can have the following html:\n",
    "    \n",
    "```html\n",
    "<ul>\n",
    "    <li> Chipotle </li>\n",
    "    <li> Five Guys </li>\n",
    "    <li> Sweetgreen </li>\n",
    "</ul>\n",
    "```"
   ]
  },
  {
   "cell_type": "markdown",
   "metadata": {},
   "source": [
    "2. Then for the `restaurants/<restaurant_name>` route also use render template so that each page displays the restaurant name."
   ]
  },
  {
   "cell_type": "markdown",
   "metadata": {},
   "source": [
    "### Setting up Links"
   ]
  },
  {
   "cell_type": "markdown",
   "metadata": {},
   "source": [
    "Right now our `restaurants` page looks like the following"
   ]
  },
  {
   "cell_type": "markdown",
   "metadata": {},
   "source": [
    "```html\n",
    "<ul>\n",
    "    <li> Chipotle </li>\n",
    "    <li> Five Guys </li>\n",
    "    <li> Sweetgreen </li>\n",
    "</ul>\n",
    "```"
   ]
  },
  {
   "cell_type": "markdown",
   "metadata": {},
   "source": [
    "Change the `html` above so that we can click on a restaurant name and it will take us to the restaurant show page.  If it works, you should see the corresponding restaurant name upon clicking the link."
   ]
  },
  {
   "cell_type": "markdown",
   "metadata": {},
   "source": [
    "### Summary"
   ]
  },
  {
   "cell_type": "markdown",
   "metadata": {},
   "source": [
    "In this lesson, we worked on setting up a dynamic webpage that has a homepage, a `restaurants` page, and a show page for an individual restaurant.  Hopefully this lab gave us a better understanding of how routes work, and how to render dynamic views.  Finally, in the last component, we saw how we can begin to connect the pages of our website by linking from one webpage to another. "
   ]
  }
 ],
 "metadata": {
  "kernelspec": {
   "display_name": "Python 3 (ipykernel)",
   "language": "python",
   "name": "python3"
  },
  "language_info": {
   "codemirror_mode": {
    "name": "ipython",
    "version": 3
   },
   "file_extension": ".py",
   "mimetype": "text/x-python",
   "name": "python",
   "nbconvert_exporter": "python",
   "pygments_lexer": "ipython3",
   "version": "3.9.7"
  }
 },
 "nbformat": 4,
 "nbformat_minor": 4
}
