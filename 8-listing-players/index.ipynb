{
 "cells": [
  {
   "cell_type": "markdown",
   "metadata": {},
   "source": [
    "# Listing Players"
   ]
  },
  {
   "cell_type": "markdown",
   "metadata": {},
   "source": [
    "### Introduction"
   ]
  },
  {
   "cell_type": "markdown",
   "metadata": {},
   "source": [
    "So far, we have seen how to display and make the SQL calls for a single restaurant.  But if we look at webpages, we'll see that they often have a webpage that lists multiple restaurants.  Let's use SQL for this page as well."
   ]
  },
  {
   "cell_type": "markdown",
   "metadata": {},
   "source": [
    "### Setting up our Web Application"
   ]
  },
  {
   "cell_type": "markdown",
   "metadata": {},
   "source": [
    "Let's start off with the code from our past application.  Here was our `app.py` file."
   ]
  },
  {
   "cell_type": "markdown",
   "metadata": {},
   "source": [
    "```python\n",
    "import sqlite3\n",
    "from flask import Flask, render_template\n",
    "import Player from player\n",
    "\n",
    "app = Flask(__name__, static_folder='public', template_folder='views')\n",
    "\n",
    "app.config.update(dict(\n",
    "    DATABASE=os.path.join(app.root_path, 'nhl.db'),\n",
    "))\n",
    "\n",
    "\n",
    "@app.route('/nhl/players/<player_id>')\n",
    "def show_player(player_id):\n",
    "    conn = sqlite3.connect(app.config['DATABASE'])\n",
    "    cursor = conn.cursor()\n",
    "    cursor.execute('select * from players where id = ?;', player_id)\n",
    "    player_details = cursor.fetchone()\n",
    "    player = Player(*player_details)\n",
    "    return render_template('player.html',  player = player)\n",
    "\n",
    "app.run(debug = True)\n",
    "```"
   ]
  },
  {
   "cell_type": "markdown",
   "metadata": {},
   "source": [
    "So in the above code we initialized our flask app, and connected the database to the app.  We also have our show route.  We know that our route can start with the following:"
   ]
  },
  {
   "cell_type": "markdown",
   "metadata": {},
   "source": [
    "```python\n",
    "@app.route('/nhl/players/')\n",
    "def players():\n",
    "    conn = sqlite3.connect(app.config['DATABASE'])\n",
    "    cursor = conn.cursor()\n",
    "```"
   ]
  },
  {
   "cell_type": "markdown",
   "metadata": {},
   "source": [
    "Now let's think about what we need to display all of the players in the database."
   ]
  },
  {
   "cell_type": "markdown",
   "metadata": {},
   "source": [
    "We can first add in the sql call for all players, and then initialize a new player for each row of data by adding the following: "
   ]
  },
  {
   "cell_type": "markdown",
   "metadata": {},
   "source": [
    "```python\n",
    "@app.route('/nhl/players/')\n",
    "def players():\n",
    "    conn = sqlite3.connect(app.config['DATABASE'])\n",
    "    cursor = conn.cursor()\n",
    "    cursor.execute('select * from players;')\n",
    "    player_rows = cursor.fetchall()\n",
    "    players = [Player(*player_row) for player_row in player_rows]\n",
    "    return render_template('players.html',  players = players)\n"
   ]
  },
  {
   "cell_type": "markdown",
   "metadata": {},
   "source": [
    "Notice that this time we pass through the entire list of players into our `render_template` method call."
   ]
  },
  {
   "cell_type": "markdown",
   "metadata": {},
   "source": [
    "Then, in the `players.html` file, we'll need to add some html for each player."
   ]
  },
  {
   "cell_type": "markdown",
   "metadata": {},
   "source": [
    "### Iterating within HTML"
   ]
  },
  {
   "cell_type": "markdown",
   "metadata": {},
   "source": [
    "```html\n",
    "<ul class=\"players\">\n",
    "  {% for player in players %}\n",
    "    <li>\n",
    "       {{ player.name }}\n",
    "    </li>\n",
    "  {% endfor %}\n",
    "  </ul>\n",
    "```"
   ]
  },
  {
   "cell_type": "markdown",
   "metadata": {},
   "source": [
    "In the above code, we loop through the list of players with `for player in players` and then ending the for loop with `endfor`.  Notice that because we wish the code until the for `endfor` to also be part of the for loop, we indicate this with `{% %}` as demarcating the beginning of the for loop, and the end of the loop.  This is different from the `{{ }}` demarcators, which is used for python code that is self contained."
   ]
  },
  {
   "cell_type": "markdown",
   "metadata": {},
   "source": [
    "### Adding links"
   ]
  },
  {
   "cell_type": "markdown",
   "metadata": {},
   "source": [
    "Then, instead of just listing the player names, we can link to the player show pages.  To create a link to each player, we need an a tag that looks something like the following:\n",
    "\n",
    "```html\n",
    "<a href=\"/players/1\"> Claude Giroux </a>\n",
    "```"
   ]
  },
  {
   "cell_type": "markdown",
   "metadata": {},
   "source": [
    "Now generating this link can be made easier with the use of the `url_for` function.  The function takes the name of the method that corresponds to the route, and then we can pass any named arguments into the method.  So for example, our `show_player` method looks like the following:"
   ]
  },
  {
   "cell_type": "markdown",
   "metadata": {},
   "source": [
    "```python\n",
    "@app.route('/nhl/players/<player_id>')\n",
    "def show_player(player_id):\n",
    "...\n",
    "```"
   ]
  },
  {
   "cell_type": "markdown",
   "metadata": {},
   "source": [
    "And we can generate the corresponding url for each player with the following:"
   ]
  },
  {
   "cell_type": "markdown",
   "metadata": {},
   "source": [
    "```html\n",
    "<a href={{url_for('show_player', player_id=player.id)}}>\n",
    "```"
   ]
  },
  {
   "cell_type": "markdown",
   "metadata": {},
   "source": [
    "So this creates the route `/players/1`, or whatever the player's id is."
   ]
  },
  {
   "cell_type": "markdown",
   "metadata": {},
   "source": [
    "So we can loop through our players and create the appropriate links with the following:"
   ]
  },
  {
   "cell_type": "markdown",
   "metadata": {},
   "source": [
    "```html\n",
    "<ul class=\"players\">\n",
    "  {% for player in players %}\n",
    "    <li>\n",
    "        <a href={{url_for('show_player', player_id=player.id)}}> {{ player.name }} </a>\n",
    "    </li>\n",
    "  {% endfor %}\n",
    "  </ul>\n",
    "```"
   ]
  },
  {
   "cell_type": "markdown",
   "metadata": {},
   "source": [
    "Now, when a user comes to our index page, the user can see more details about the player by clicking on the link."
   ]
  },
  {
   "cell_type": "markdown",
   "metadata": {},
   "source": [
    "### Summary"
   ]
  },
  {
   "cell_type": "markdown",
   "metadata": {},
   "source": [
    "In this lesson, we saw how to create an index page that links to a list of players.  We did this by updating the players route to select a list of players.  These were the four key lines in the route."
   ]
  },
  {
   "cell_type": "markdown",
   "metadata": {},
   "source": [
    "```python\n",
    "def players():\n",
    "    ...\n",
    "    cursor.execute('select * from players;')\n",
    "    player_rows = cursor.fetchall()\n",
    "    players = [Player(*player_row) for player_row in player_rows]\n",
    "    return render_template('players.html',  players = players)\n",
    "```"
   ]
  },
  {
   "cell_type": "markdown",
   "metadata": {},
   "source": [
    "The first two lines used sql to select all of our plauyers from the database.  Then in the next line we initialized a new Player instance for each row of information that we selected, and we assigned the list of instances to the `players` variable.  Finally, we passed through that list of players into the render_template call."
   ]
  },
  {
   "cell_type": "markdown",
   "metadata": {},
   "source": [
    "In the `players.html` file, we looped through our list of players, and linked to each one."
   ]
  },
  {
   "cell_type": "markdown",
   "metadata": {},
   "source": [
    "```html\n",
    "<ul class=\"players\">\n",
    "  {% for player in players %}\n",
    "    <li>\n",
    "        <a href={{url_for('show_player', player_id=player.id)}}> {{ player.name }} </a>\n",
    "    </li>\n",
    "  {% endfor %}\n",
    "  </ul>\n",
    "```"
   ]
  },
  {
   "cell_type": "markdown",
   "metadata": {},
   "source": [
    "To begin and end the for loop we use the `{% %}` demarcators.  And then we used the `url_for` method to generate the appropriate url for each player.  We did so by passing the name of the function that corresponds to the route, as well as the name argument `player_id` that the route function accepts."
   ]
  },
  {
   "cell_type": "markdown",
   "metadata": {},
   "source": [
    "### Resources"
   ]
  },
  {
   "cell_type": "markdown",
   "metadata": {},
   "source": [
    "[Flask resources](https://flask.palletsprojects.com/en/0.12.x/tutorial/templates/)"
   ]
  }
 ],
 "metadata": {
  "kernelspec": {
   "display_name": "Python 3",
   "language": "python",
   "name": "python3"
  },
  "language_info": {
   "codemirror_mode": {
    "name": "ipython",
    "version": 3
   },
   "file_extension": ".py",
   "mimetype": "text/x-python",
   "name": "python",
   "nbconvert_exporter": "python",
   "pygments_lexer": "ipython3",
   "version": "3.7.4"
  }
 },
 "nbformat": 4,
 "nbformat_minor": 4
}
