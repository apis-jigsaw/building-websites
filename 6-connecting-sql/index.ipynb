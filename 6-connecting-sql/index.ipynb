{
 "cells": [
  {
   "cell_type": "markdown",
   "metadata": {},
   "source": [
    "# Connecting SQL to Flask"
   ]
  },
  {
   "cell_type": "markdown",
   "metadata": {},
   "source": [
    "### Introduction"
   ]
  },
  {
   "cell_type": "code",
   "execution_count": null,
   "metadata": {},
   "outputs": [],
   "source": []
  },
  {
   "cell_type": "code",
   "execution_count": 1,
   "metadata": {},
   "outputs": [],
   "source": [
    "import pandas as pd"
   ]
  },
  {
   "cell_type": "code",
   "execution_count": 3,
   "metadata": {},
   "outputs": [],
   "source": [
    "tables = pd.read_html('https://www.espn.com/nhl/team/roster/_/name/phi/philadelphia-flyers')"
   ]
  },
  {
   "cell_type": "code",
   "execution_count": 6,
   "metadata": {},
   "outputs": [],
   "source": [
    "first_table = tables[0]"
   ]
  },
  {
   "cell_type": "code",
   "execution_count": 11,
   "metadata": {},
   "outputs": [],
   "source": [
    "names = first_table.Name.str[:-2]"
   ]
  },
  {
   "cell_type": "code",
   "execution_count": 12,
   "metadata": {},
   "outputs": [],
   "source": [
    "numbers = first_table.Name.str[-2:]"
   ]
  },
  {
   "cell_type": "code",
   "execution_count": 13,
   "metadata": {},
   "outputs": [
    {
     "data": {
      "text/plain": [
       "0    82\n",
       "1    14\n",
       "2    13\n",
       "3    11\n",
       "4    21\n",
       "5    19\n",
       "Name: Name, dtype: object"
      ]
     },
     "execution_count": 13,
     "metadata": {},
     "output_type": "execute_result"
    }
   ],
   "source": [
    "numbers"
   ]
  },
  {
   "cell_type": "code",
   "execution_count": 15,
   "metadata": {},
   "outputs": [],
   "source": [
    "first_table.Name = names"
   ]
  },
  {
   "cell_type": "code",
   "execution_count": 17,
   "metadata": {},
   "outputs": [],
   "source": [
    "first_table['Number'] = numbers"
   ]
  },
  {
   "cell_type": "code",
   "execution_count": 23,
   "metadata": {},
   "outputs": [],
   "source": [
    "selected_df = first_table.iloc[:, 1:]"
   ]
  },
  {
   "cell_type": "code",
   "execution_count": 22,
   "metadata": {},
   "outputs": [],
   "source": [
    "import sqlite3\n",
    "conn = sqlite3.connect('nhl.db')"
   ]
  },
  {
   "cell_type": "code",
   "execution_count": 24,
   "metadata": {},
   "outputs": [
    {
     "name": "stderr",
     "output_type": "stream",
     "text": [
      "/Users/jeff/opt/anaconda3/lib/python3.7/site-packages/pandas/core/generic.py:2712: UserWarning: The spaces in these column names will not be changed. In pandas versions < 0.14, spaces were converted to underscores.\n",
      "  method=method,\n"
     ]
    }
   ],
   "source": [
    "selected_df.to_sql('players', conn)"
   ]
  },
  {
   "cell_type": "code",
   "execution_count": 30,
   "metadata": {},
   "outputs": [
    {
     "data": {
      "text/html": [
       "<div>\n",
       "<style scoped>\n",
       "    .dataframe tbody tr th:only-of-type {\n",
       "        vertical-align: middle;\n",
       "    }\n",
       "\n",
       "    .dataframe tbody tr th {\n",
       "        vertical-align: top;\n",
       "    }\n",
       "\n",
       "    .dataframe thead th {\n",
       "        text-align: right;\n",
       "    }\n",
       "</style>\n",
       "<table border=\"1\" class=\"dataframe\">\n",
       "  <thead>\n",
       "    <tr style=\"text-align: right;\">\n",
       "      <th></th>\n",
       "      <th>Name</th>\n",
       "      <th>Age</th>\n",
       "    </tr>\n",
       "  </thead>\n",
       "  <tbody>\n",
       "    <tr>\n",
       "      <td>0</td>\n",
       "      <td>Connor Bunnaman</td>\n",
       "      <td>21</td>\n",
       "    </tr>\n",
       "  </tbody>\n",
       "</table>\n",
       "</div>"
      ],
      "text/plain": [
       "              Name  Age\n",
       "0  Connor Bunnaman   21"
      ]
     },
     "execution_count": 30,
     "metadata": {},
     "output_type": "execute_result"
    }
   ],
   "source": [
    "pd.read_sql('select Name, Age from players where NAME = \"Connor Bunnaman\" AND AGE = 21;', conn)"
   ]
  },
  {
   "cell_type": "code",
   "execution_count": 39,
   "metadata": {},
   "outputs": [],
   "source": [
    "lower_cols = selected_df.columns.map(lambda col: col.)"
   ]
  },
  {
   "cell_type": "code",
   "execution_count": 44,
   "metadata": {},
   "outputs": [],
   "source": [
    "coerced_cols = ['_'.join(col.lower().split()) for col in lower_cols]"
   ]
  },
  {
   "cell_type": "code",
   "execution_count": 46,
   "metadata": {},
   "outputs": [],
   "source": [
    "selected_df.columns = coerced_cols"
   ]
  },
  {
   "cell_type": "code",
   "execution_count": 52,
   "metadata": {},
   "outputs": [],
   "source": [
    "selected_df['id'] = selected_df.index"
   ]
  },
  {
   "cell_type": "code",
   "execution_count": 59,
   "metadata": {},
   "outputs": [],
   "source": [
    "df = selected_df[['id', 'name', 'age', 'ht', 'wt', 'shot', 'birth_place', 'birthdate', 'number']]"
   ]
  },
  {
   "cell_type": "code",
   "execution_count": 61,
   "metadata": {},
   "outputs": [],
   "source": [
    "df.to_csv('nhl_players.csv', index = False)"
   ]
  },
  {
   "cell_type": "code",
   "execution_count": 64,
   "metadata": {},
   "outputs": [
    {
     "data": {
      "text/html": [
       "<div>\n",
       "<style scoped>\n",
       "    .dataframe tbody tr th:only-of-type {\n",
       "        vertical-align: middle;\n",
       "    }\n",
       "\n",
       "    .dataframe tbody tr th {\n",
       "        vertical-align: top;\n",
       "    }\n",
       "\n",
       "    .dataframe thead th {\n",
       "        text-align: right;\n",
       "    }\n",
       "</style>\n",
       "<table border=\"1\" class=\"dataframe\">\n",
       "  <thead>\n",
       "    <tr style=\"text-align: right;\">\n",
       "      <th></th>\n",
       "      <th>id</th>\n",
       "      <th>name</th>\n",
       "      <th>age</th>\n",
       "      <th>ht</th>\n",
       "      <th>wt</th>\n",
       "      <th>shot</th>\n",
       "      <th>birth_place</th>\n",
       "      <th>birthdate</th>\n",
       "      <th>number</th>\n",
       "    </tr>\n",
       "  </thead>\n",
       "  <tbody>\n",
       "    <tr>\n",
       "      <td>0</td>\n",
       "      <td>0</td>\n",
       "      <td>Connor Bunnaman</td>\n",
       "      <td>21</td>\n",
       "      <td>6' 1\"</td>\n",
       "      <td>207 lbs</td>\n",
       "      <td>L</td>\n",
       "      <td>Guelph, ON</td>\n",
       "      <td>04/16/98</td>\n",
       "      <td>82</td>\n",
       "    </tr>\n",
       "    <tr>\n",
       "      <td>1</td>\n",
       "      <td>1</td>\n",
       "      <td>Sean Couturier</td>\n",
       "      <td>27</td>\n",
       "      <td>6' 3\"</td>\n",
       "      <td>211 lbs</td>\n",
       "      <td>L</td>\n",
       "      <td>Phoenix, AZ</td>\n",
       "      <td>12/07/92</td>\n",
       "      <td>14</td>\n",
       "    </tr>\n",
       "    <tr>\n",
       "      <td>2</td>\n",
       "      <td>2</td>\n",
       "      <td>Kevin Hayes</td>\n",
       "      <td>27</td>\n",
       "      <td>6' 5\"</td>\n",
       "      <td>216 lbs</td>\n",
       "      <td>L</td>\n",
       "      <td>Boston, MA</td>\n",
       "      <td>05/08/92</td>\n",
       "      <td>13</td>\n",
       "    </tr>\n",
       "    <tr>\n",
       "      <td>3</td>\n",
       "      <td>3</td>\n",
       "      <td>Travis Konecny</td>\n",
       "      <td>22</td>\n",
       "      <td>5' 10\"</td>\n",
       "      <td>184 lbs</td>\n",
       "      <td>R</td>\n",
       "      <td>London, ON</td>\n",
       "      <td>03/11/97</td>\n",
       "      <td>11</td>\n",
       "    </tr>\n",
       "    <tr>\n",
       "      <td>4</td>\n",
       "      <td>4</td>\n",
       "      <td>Scott Laughton</td>\n",
       "      <td>25</td>\n",
       "      <td>6' 1\"</td>\n",
       "      <td>190 lbs</td>\n",
       "      <td>L</td>\n",
       "      <td>Oakville, ON</td>\n",
       "      <td>05/30/94</td>\n",
       "      <td>21</td>\n",
       "    </tr>\n",
       "    <tr>\n",
       "      <td>5</td>\n",
       "      <td>5</td>\n",
       "      <td>Nolan Patrick</td>\n",
       "      <td>21</td>\n",
       "      <td>6' 2\"</td>\n",
       "      <td>199 lbs</td>\n",
       "      <td>R</td>\n",
       "      <td>Winnipeg, MB</td>\n",
       "      <td>09/19/98</td>\n",
       "      <td>19</td>\n",
       "    </tr>\n",
       "  </tbody>\n",
       "</table>\n",
       "</div>"
      ],
      "text/plain": [
       "   id             name  age      ht       wt shot   birth_place birthdate  \\\n",
       "0   0  Connor Bunnaman   21   6' 1\"  207 lbs    L    Guelph, ON  04/16/98   \n",
       "1   1   Sean Couturier   27   6' 3\"  211 lbs    L   Phoenix, AZ  12/07/92   \n",
       "2   2      Kevin Hayes   27   6' 5\"  216 lbs    L    Boston, MA  05/08/92   \n",
       "3   3   Travis Konecny   22  5' 10\"  184 lbs    R    London, ON  03/11/97   \n",
       "4   4   Scott Laughton   25   6' 1\"  190 lbs    L  Oakville, ON  05/30/94   \n",
       "5   5    Nolan Patrick   21   6' 2\"  199 lbs    R  Winnipeg, MB  09/19/98   \n",
       "\n",
       "   number  \n",
       "0      82  \n",
       "1      14  \n",
       "2      13  \n",
       "3      11  \n",
       "4      21  \n",
       "5      19  "
      ]
     },
     "execution_count": 64,
     "metadata": {},
     "output_type": "execute_result"
    }
   ],
   "source": [
    "pd.read_csv('./nhl_players.csv')"
   ]
  },
  {
   "cell_type": "code",
   "execution_count": 31,
   "metadata": {},
   "outputs": [],
   "source": [
    "cursor = conn.cursor()"
   ]
  },
  {
   "cell_type": "code",
   "execution_count": 33,
   "metadata": {},
   "outputs": [
    {
     "data": {
      "text/plain": [
       "[(0,\n",
       "  'Connor Bunnaman',\n",
       "  21,\n",
       "  '6\\' 1\"',\n",
       "  '207 lbs',\n",
       "  'L',\n",
       "  'Guelph, ON',\n",
       "  '04/16/98',\n",
       "  '82'),\n",
       " (1,\n",
       "  'Sean Couturier',\n",
       "  27,\n",
       "  '6\\' 3\"',\n",
       "  '211 lbs',\n",
       "  'L',\n",
       "  'Phoenix, AZ',\n",
       "  '12/07/92',\n",
       "  '14'),\n",
       " (2,\n",
       "  'Kevin Hayes',\n",
       "  27,\n",
       "  '6\\' 5\"',\n",
       "  '216 lbs',\n",
       "  'L',\n",
       "  'Boston, MA',\n",
       "  '05/08/92',\n",
       "  '13'),\n",
       " (3,\n",
       "  'Travis Konecny',\n",
       "  22,\n",
       "  '5\\' 10\"',\n",
       "  '184 lbs',\n",
       "  'R',\n",
       "  'London, ON',\n",
       "  '03/11/97',\n",
       "  '11'),\n",
       " (4,\n",
       "  'Scott Laughton',\n",
       "  25,\n",
       "  '6\\' 1\"',\n",
       "  '190 lbs',\n",
       "  'L',\n",
       "  'Oakville, ON',\n",
       "  '05/30/94',\n",
       "  '21'),\n",
       " (5,\n",
       "  'Nolan Patrick',\n",
       "  21,\n",
       "  '6\\' 2\"',\n",
       "  '199 lbs',\n",
       "  'R',\n",
       "  'Winnipeg, MB',\n",
       "  '09/19/98',\n",
       "  '19')]"
      ]
     },
     "execution_count": 33,
     "metadata": {},
     "output_type": "execute_result"
    }
   ],
   "source": [
    "cursor.execute('select * from players;')\n",
    "cursor.fetchall()"
   ]
  },
  {
   "cell_type": "code",
   "execution_count": null,
   "metadata": {},
   "outputs": [],
   "source": []
  }
 ],
 "metadata": {
  "kernelspec": {
   "display_name": "Python 3",
   "language": "python",
   "name": "python3"
  },
  "language_info": {
   "codemirror_mode": {
    "name": "ipython",
    "version": 3
   },
   "file_extension": ".py",
   "mimetype": "text/x-python",
   "name": "python",
   "nbconvert_exporter": "python",
   "pygments_lexer": "ipython3",
   "version": "3.7.4"
  }
 },
 "nbformat": 4,
 "nbformat_minor": 4
}
