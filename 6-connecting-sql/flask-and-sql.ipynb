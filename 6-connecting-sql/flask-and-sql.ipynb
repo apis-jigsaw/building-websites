{
 "cells": [
  {
   "cell_type": "markdown",
   "metadata": {},
   "source": [
    "# Flask and SQL"
   ]
  },
  {
   "cell_type": "markdown",
   "metadata": {},
   "source": [
    "### Introduction"
   ]
  },
  {
   "cell_type": "markdown",
   "metadata": {},
   "source": [
    "In the last lesson, we saw how we could generate different web responses based on the user's input through a url.  This was our code:"
   ]
  },
  {
   "cell_type": "markdown",
   "metadata": {},
   "source": [
    "```python\n",
    "from flask import Flask, render_template\n",
    "app = Flask(__name__, static_folder='public', template_folder='views')\n",
    "  \n",
    "@app.route('/nhl/players/<name>')\n",
    "def show_player(name):\n",
    "    return render_template('player.html', name=name)\n",
    "```"
   ]
  },
  {
   "cell_type": "markdown",
   "metadata": {},
   "source": [
    "Now of course, this is fairly simplistic.  The user provides the players name, and the website responds with the player's name.  In this lesson, we'll see how the website can respond with more information that it has stored in the SQL database."
   ]
  },
  {
   "cell_type": "markdown",
   "metadata": {},
   "source": [
    "### Getting our Data"
   ]
  },
  {
   "cell_type": "markdown",
   "metadata": {},
   "source": [
    "We can quickly get some data and load it into a database with the following."
   ]
  },
  {
   "cell_type": "code",
   "execution_count": 39,
   "metadata": {},
   "outputs": [],
   "source": [
    "import pandas as pd\n",
    "df = pd.read_csv('./nhl_players.csv')"
   ]
  },
  {
   "cell_type": "code",
   "execution_count": 36,
   "metadata": {},
   "outputs": [],
   "source": [
    "import sqlite3\n",
    "conn = sqlite3.connect('nhl.db')"
   ]
  },
  {
   "cell_type": "code",
   "execution_count": 37,
   "metadata": {},
   "outputs": [],
   "source": [
    "df.to_sql('players', conn, index = False)"
   ]
  },
  {
   "cell_type": "code",
   "execution_count": 42,
   "metadata": {},
   "outputs": [],
   "source": [
    "cursor = conn.cursor()"
   ]
  },
  {
   "cell_type": "code",
   "execution_count": 44,
   "metadata": {},
   "outputs": [
    {
     "data": {
      "text/plain": [
       "(0,\n",
       " 'Connor Bunnaman',\n",
       " 21,\n",
       " '6\\' 1\"',\n",
       " '207 lbs',\n",
       " 'L',\n",
       " 'Guelph, ON',\n",
       " '04/16/98',\n",
       " 82)"
      ]
     },
     "execution_count": 44,
     "metadata": {},
     "output_type": "execute_result"
    }
   ],
   "source": [
    "cursor.execute('select * from players where id = 0;')\n",
    "cursor.fetchone()"
   ]
  },
  {
   "cell_type": "markdown",
   "metadata": {},
   "source": [
    "So, now this is the data that we can then present to the user.  The user can type type in (or click on a link to a url like) `/nhl/players/0`, and then we will make a SQL call to select the players with the id equal to 0."
   ]
  },
  {
   "cell_type": "markdown",
   "metadata": {},
   "source": [
    "### Seeing it in Action"
   ]
  },
  {
   "cell_type": "markdown",
   "metadata": {},
   "source": [
    "```python\n",
    "# application.py\n",
    "import sqlite3\n",
    "from flask import Flask, render_template\n",
    "\n",
    "app = Flask(__name__, static_folder='public', template_folder='views')\n",
    "\n",
    "@app.route('/nhl/players/<player_id>')\n",
    "def show_player(player_id):\n",
    "    conn = sqlite3.connect('nhl.db')\n",
    "    cursor = conn.cursor()\n",
    "    cursor.execute('select * from players where id = ?;', player_id)\n",
    "    player_details = cursor.fetchone()\n",
    "    return str(player_details)\n",
    "\n",
    "app.run()\n",
    "```"
   ]
  },
  {
   "cell_type": "markdown",
   "metadata": {},
   "source": [
    "Then from the command line run the following."
   ]
  },
  {
   "cell_type": "markdown",
   "metadata": {},
   "source": [
    "`python application.py`"
   ]
  },
  {
   "cell_type": "markdown",
   "metadata": {},
   "source": [
    "We'll see different player information appear based on the url we visit.  Take a moment to think about how this works.  Each time a different the user visits a url with a different id at the end, sql will select information from a different player to display."
   ]
  },
  {
   "cell_type": "markdown",
   "metadata": {},
   "source": [
    "One way to see this is to simply copy and paste the `show_player` function, and use it on it's own."
   ]
  },
  {
   "cell_type": "code",
   "execution_count": 52,
   "metadata": {},
   "outputs": [],
   "source": [
    "def show_player(player_id):\n",
    "    conn = sqlite3.connect('nhl.db')\n",
    "    cursor = conn.cursor()\n",
    "    cursor.execute('select * from players where id = ?;', player_id)\n",
    "    player_details = cursor.fetchone()\n",
    "    return str(player_details)"
   ]
  },
  {
   "cell_type": "code",
   "execution_count": 53,
   "metadata": {},
   "outputs": [
    {
     "data": {
      "text/plain": [
       "'(1, \\'Sean Couturier\\', 27, \\'6\\\\\\' 3\"\\', \\'211 lbs\\', \\'L\\', \\'Phoenix, AZ\\', \\'12/07/92\\', 14)'"
      ]
     },
     "execution_count": 53,
     "metadata": {},
     "output_type": "execute_result"
    }
   ],
   "source": [
    "show_player('1')"
   ]
  },
  {
   "cell_type": "code",
   "execution_count": 54,
   "metadata": {},
   "outputs": [
    {
     "data": {
      "text/plain": [
       "'(2, \\'Kevin Hayes\\', 27, \\'6\\\\\\' 5\"\\', \\'216 lbs\\', \\'L\\', \\'Boston, MA\\', \\'05/08/92\\', 13)'"
      ]
     },
     "execution_count": 54,
     "metadata": {},
     "output_type": "execute_result"
    }
   ],
   "source": [
    "show_player('2')"
   ]
  },
  {
   "cell_type": "markdown",
   "metadata": {},
   "source": [
    "So an `id` like `'2'` comes the url when the user types in `\\nhl\\players\\2`, and then this id is passed to the `show_player` function."
   ]
  },
  {
   "cell_type": "markdown",
   "metadata": {},
   "source": [
    "### Adding Objects"
   ]
  },
  {
   "cell_type": "markdown",
   "metadata": {},
   "source": [
    "Before we add in some HTML, there is still the fact that working with objects is simply better, and easier.  So immediately after we select the player's information from SQL, we can then create a player instance with this information.  Of course to do that, we first need to create a Player class, and then import it into our `application.py` file.  Let's do that.  We'll create a `player.py` file, where we'll define a Player class."
   ]
  },
  {
   "cell_type": "code",
   "execution_count": 51,
   "metadata": {},
   "outputs": [],
   "source": [
    "class Player:\n",
    "    def __init__(self, id, name, age, height, weight, shot, birth_place, birthdate, number):\n",
    "        self.id = id\n",
    "        self.name = name\n",
    "        self.age = age\n",
    "        self.height = height\n",
    "        self.weight = weight\n",
    "        self.shot = shot\n",
    "        self.birth_place = birth_place\n",
    "        self.birthdate = birthdate\n",
    "        self.number = number"
   ]
  },
  {
   "cell_type": "markdown",
   "metadata": {},
   "source": [
    "Then we can update the `show_player` function so that after selecting the information of the player from the database, it initializes an instance of a player, with that information."
   ]
  },
  {
   "cell_type": "markdown",
   "metadata": {},
   "source": [
    "We'll get `player_info` like the following:"
   ]
  },
  {
   "cell_type": "code",
   "execution_count": 60,
   "metadata": {},
   "outputs": [],
   "source": [
    "player_info = (2, 'Kevin Hayes', 27, '6\\' 5\"', '216 lbs', 'L', 'Boston, MA', '05/08/92', 13)"
   ]
  },
  {
   "cell_type": "markdown",
   "metadata": {},
   "source": [
    "And now we need to initialize an object with this information."
   ]
  },
  {
   "cell_type": "markdown",
   "metadata": {},
   "source": [
    "One way is to specify all of the arguments."
   ]
  },
  {
   "cell_type": "code",
   "execution_count": 64,
   "metadata": {},
   "outputs": [],
   "source": [
    "hayes = Player(id = player_info[0], name = player_info[1],\n",
    "       age = player_info[2], height = player_info[3],\n",
    "       weight = player_info[4], shot = player_info[5],\n",
    "       birth_place = player_info[6], birthdate = player_info[7],\n",
    "       number = player_info[8]\n",
    "      )"
   ]
  },
  {
   "cell_type": "code",
   "execution_count": 65,
   "metadata": {},
   "outputs": [
    {
     "data": {
      "text/plain": [
       "{'id': 2,\n",
       " 'name': 'Kevin Hayes',\n",
       " 'age': 27,\n",
       " 'height': '6\\' 5\"',\n",
       " 'weight': '216 lbs',\n",
       " 'shot': 'L',\n",
       " 'birth_place': 'Boston, MA',\n",
       " 'birthdate': '05/08/92',\n",
       " 'number': 13}"
      ]
     },
     "execution_count": 65,
     "metadata": {},
     "output_type": "execute_result"
    }
   ],
   "source": [
    "hayes.__dict__"
   ]
  },
  {
   "cell_type": "markdown",
   "metadata": {},
   "source": [
    "Another way is to take our `player_info` and use * to initialize the instance."
   ]
  },
  {
   "cell_type": "code",
   "execution_count": null,
   "metadata": {},
   "outputs": [],
   "source": [
    "player_info = (2, 'Kevin Hayes', 27, '6\\' 5\"', '216 lbs', 'L', 'Boston, MA', '05/08/92', 13)"
   ]
  },
  {
   "cell_type": "code",
   "execution_count": 66,
   "metadata": {},
   "outputs": [],
   "source": [
    "hayes = Player(*player_info)"
   ]
  },
  {
   "cell_type": "code",
   "execution_count": 68,
   "metadata": {},
   "outputs": [
    {
     "data": {
      "text/plain": [
       "{'id': 2,\n",
       " 'name': 'Kevin Hayes',\n",
       " 'age': 27,\n",
       " 'height': '6\\' 5\"',\n",
       " 'weight': '216 lbs',\n",
       " 'shot': 'L',\n",
       " 'birth_place': 'Boston, MA',\n",
       " 'birthdate': '05/08/92',\n",
       " 'number': 13}"
      ]
     },
     "execution_count": 68,
     "metadata": {},
     "output_type": "execute_result"
    }
   ],
   "source": [
    "hayes.__dict__"
   ]
  },
  {
   "cell_type": "markdown",
   "metadata": {},
   "source": [
    "Ok, let's use the second way because it's easier.  We'll update our `application.py` file to load in the Player class, and initialize a new player with the data retrieved from the database."
   ]
  },
  {
   "cell_type": "markdown",
   "metadata": {},
   "source": [
    "```python\n",
    "# application.py\n",
    "import sqlite3\n",
    "from flask import Flask, render_template\n",
    "from player import Player\n",
    "\n",
    "app = Flask(__name__, static_folder='public', template_folder='views')\n",
    "\n",
    "@app.route('/nhl/players/<player_id>')\n",
    "def show_player(player_id):\n",
    "    conn = sqlite3.connect('nhl.db')\n",
    "    cursor = conn.cursor()\n",
    "    cursor.execute('select * from players where id = ?;', player_id)\n",
    "    player_details = cursor.fetchone()\n",
    "    player = Player(*player_details)\n",
    "    return str(player.__dict__)\n",
    "\n",
    "app.run()\n",
    "```"
   ]
  },
  {
   "cell_type": "markdown",
   "metadata": {},
   "source": [
    "<img src=\"./sean-dict.png\">"
   ]
  },
  {
   "cell_type": "markdown",
   "metadata": {},
   "source": [
    "<img src=\"./travis.png\">"
   ]
  },
  {
   "cell_type": "markdown",
   "metadata": {},
   "source": [
    "### Adding HTML"
   ]
  },
  {
   "cell_type": "markdown",
   "metadata": {},
   "source": [
    "Finally, we can add in some HTML to our website.  We can update our `show_player` function to render the `player.html` file."
   ]
  },
  {
   "cell_type": "code",
   "execution_count": null,
   "metadata": {},
   "outputs": [],
   "source": [
    "# application.py\n",
    "import sqlite3\n",
    "from flask import Flask, render_template\n",
    "from player import Player\n",
    "\n",
    "app = Flask(__name__, static_folder='public', template_folder='views')\n",
    "\n",
    "@app.route('/nhl/players/<player_id>')\n",
    "def show_player(player_id):\n",
    "    conn = sqlite3.connect('nhl.db')\n",
    "    cursor = conn.cursor()\n",
    "    cursor.execute('select * from players where id = ?;', player_id)\n",
    "    player_details = cursor.fetchone()\n",
    "    player = Player(*player_details)\n",
    "    return render_template('player.html',  player = player)\n",
    "\n",
    "app.run()"
   ]
  },
  {
   "cell_type": "markdown",
   "metadata": {},
   "source": [
    "And then in our `views/player.html` file we have the following:"
   ]
  },
  {
   "cell_type": "markdown",
   "metadata": {},
   "source": [
    "```html\n",
    "Welcome to the webpage of \n",
    "<h1> {{player.name}}</h1>\n",
    "```"
   ]
  },
  {
   "cell_type": "markdown",
   "metadata": {},
   "source": [
    "### Updating our HTML"
   ]
  },
  {
   "cell_type": "markdown",
   "metadata": {},
   "source": [
    "Finally, we copied and pasted some of the HTML from ESPN for you.  We did so by simply visiting [the following](view-source:http://www.espn.com/nhl/player/_/id/2562601) and pasting it into a file called `views/player-1.html`."
   ]
  },
  {
   "cell_type": "markdown",
   "metadata": {},
   "source": [
    "Then if you look at line 691 of the file, you can see that we modified some of the HTML with our special `{{player.name}}`.  So now if you update the `show_player` method to render this file, you should see ESPN's player page with different player information from your website."
   ]
  },
  {
   "cell_type": "markdown",
   "metadata": {},
   "source": [
    "```python\n",
    "def show_player(player_id):\n",
    "    conn = sqlite3.connect('nhl.db')\n",
    "    cursor = conn.cursor()\n",
    "    cursor.execute('select * from players where id = ?;', player_id)\n",
    "    player_details = cursor.fetchone()\n",
    "    player = Player(*player_details)\n",
    "    return render_template('player-1.html',  player = player)\n",
    "```"
   ]
  },
  {
   "cell_type": "markdown",
   "metadata": {},
   "source": [
    "All we're doing is changing the player's name.  We'll leave it to you to make some of the other information that we have for a player dynamic."
   ]
  },
  {
   "cell_type": "markdown",
   "metadata": {},
   "source": [
    "### Summary"
   ]
  },
  {
   "cell_type": "code",
   "execution_count": null,
   "metadata": {},
   "outputs": [],
   "source": []
  }
 ],
 "metadata": {
  "kernelspec": {
   "display_name": "Python 3",
   "language": "python",
   "name": "python3"
  },
  "language_info": {
   "codemirror_mode": {
    "name": "ipython",
    "version": 3
   },
   "file_extension": ".py",
   "mimetype": "text/x-python",
   "name": "python",
   "nbconvert_exporter": "python",
   "pygments_lexer": "ipython3",
   "version": "3.7.4"
  }
 },
 "nbformat": 4,
 "nbformat_minor": 4
}
