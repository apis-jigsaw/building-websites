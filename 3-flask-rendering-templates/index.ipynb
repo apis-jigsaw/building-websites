{
 "cells": [
  {
   "cell_type": "markdown",
   "metadata": {},
   "source": [
    "# Websites with Templates "
   ]
  },
  {
   "cell_type": "markdown",
   "metadata": {},
   "source": [
    "### Introduction"
   ]
  },
  {
   "cell_type": "markdown",
   "metadata": {},
   "source": [
    "Believe it or not, we are on our way to building some websites.  So far we have learned some of the main concepts, such as that a user makes a request to a website for different information by providing different urls to the website. "
   ]
  },
  {
   "cell_type": "markdown",
   "metadata": {},
   "source": [
    "```python\n",
    "from flask import Flask\n",
    "app = Flask(__name__)\n",
    "\n",
    "@app.route('/')\n",
    "def hello_world():\n",
    "    return 'Hello, World!'\n",
    "\n",
    "@app.route('/players')\n",
    "def players():\n",
    "    return 'first player, second player '\n",
    "```"
   ]
  },
  {
   "cell_type": "markdown",
   "metadata": {},
   "source": [
    "For example, in the web application above, when the user visits the root url followed by `/`, the website will return the text `'Hello World'`, and when the user visits the root_url followed by `/players` the website will return `'first player, second player'`.\n",
    "\n",
    "Then we saw that lots of webpages have only small small differences between each page.  For example, ESPN's website of showing different the information of one player versus another comes from a dynamic website like so:"
   ]
  },
  {
   "cell_type": "markdown",
   "metadata": {},
   "source": [
    "```python\n",
    "from flask import Flask\n",
    "app = Flask(__name__)\n",
    "\n",
    "@app.route('/players/<name>')\n",
    "def show_player(name):\n",
    "    return f'Welcome to the page of: <h1> {name} </h1>' \n",
    "```"
   ]
  },
  {
   "cell_type": "markdown",
   "metadata": {},
   "source": [
    "<img src=\"./henrik.png\" width=\"50%\">\n",
    "<img src=\"./claude.png\" width=\"50%\">"
   ]
  },
  {
   "cell_type": "markdown",
   "metadata": {},
   "source": [
    "### Make our Webpages Beautiful"
   ]
  },
  {
   "cell_type": "markdown",
   "metadata": {},
   "source": [
    "The issue that we have now is that our webpage looks pretty terrible.  It's hard to write some nice HTML, when all of our HTML is in one long string inside of a function."
   ]
  },
  {
   "cell_type": "markdown",
   "metadata": {},
   "source": [
    "```python\n",
    "@app.route('/players/<name>')\n",
    "def show_player(name):\n",
    "    return f'Welcome to the page of: <h1> {name} </h1>' \n",
    "````"
   ]
  },
  {
   "cell_type": "markdown",
   "metadata": {},
   "source": [
    "Let's do better."
   ]
  },
  {
   "cell_type": "markdown",
   "metadata": {},
   "source": [
    "Instead we'll render a template of the HTML.  Once again, let's go to [the documentation](https://flask.palletsprojects.com/en/1.1.x/quickstart/#rendering-templates) to learn how."
   ]
  },
  {
   "cell_type": "markdown",
   "metadata": {},
   "source": [
    "> Don't just look at the code, read the text as well."
   ]
  },
  {
   "cell_type": "markdown",
   "metadata": {},
   "source": [
    "<img src=\"./flask-render-templates.png\" width=\"110%\">"
   ]
  },
  {
   "cell_type": "markdown",
   "metadata": {},
   "source": [
    "Ok, so what the documentation above is saying is that we can place the HTML for each webpage inside of a different `.html` file.  And that each of those files should live inside of the `templates` folder.\n",
    "\n",
    "In their example, the code that defines the routes for the application lives inside of the `application.py` file."
   ]
  },
  {
   "cell_type": "markdown",
   "metadata": {},
   "source": [
    "### Seeing it in action"
   ]
  },
  {
   "cell_type": "markdown",
   "metadata": {},
   "source": [
    "To see a similar codebase in action [click here](https://glitch.com/embed/#!/embed/lime-wheel?path=?path=server.py:2:70)."
   ]
  },
  {
   "cell_type": "markdown",
   "metadata": {},
   "source": [
    "What we see is a similar structure, except that the application, and the routes are defined inside of a `server.py` file.  And that the templates are defined inside of the `views` file."
   ]
  },
  {
   "cell_type": "markdown",
   "metadata": {},
   "source": [
    "```python\n",
    "# server.py\n",
    "from flask import Flask, render_template\n",
    "app = Flask(__name__, static_folder='public', template_folder='views')\n",
    "\n",
    "@app.route('/')\n",
    "def hello():\n",
    "    return render_template('index.html')\n",
    "  \n",
    "@app.route('/nhl/players/')\n",
    "def nhl():\n",
    "    return render_template('player.html')\n",
    "  \n",
    "app.run()\n",
    "```"
   ]
  },
  {
   "cell_type": "markdown",
   "metadata": {},
   "source": [
    "So let's think about how this application works.  A user visits the root url followed by `/`, and then this triggers the `hello` function, which looks for, and then returns, the `index.html` template.\n",
    "\n",
    "We can find that template inside of the `views` folder, and it looks like the following:\n",
    "```\n",
    "<!DOCTYPE html>\n",
    "<html>\n",
    "  <head>\n",
    "    <title>ESPN</title>\n",
    "  </head>\n",
    "  <body>\n",
    "    <h1>\n",
    "       Welcome to ESPN\n",
    "    </h1>\n",
    "    <a href=\"/nhl/players/\"> Go to NHL Players</a>\n",
    "  </body>\n",
    "</html>\n",
    "```"
   ]
  },
  {
   "cell_type": "markdown",
   "metadata": {},
   "source": [
    "This is what is sent back to the browser, which the browser then displays to us."
   ]
  },
  {
   "cell_type": "markdown",
   "metadata": {},
   "source": [
    "<img src=\"./espn-page.png\" >"
   ]
  },
  {
   "cell_type": "markdown",
   "metadata": {},
   "source": [
    "If we click on the link, `Go to NHL Players`, this will take us to `/nhl/players`, as indicated by the `<a href>` property.\n",
    "\n",
    "Our application will look for corresponding `/nhl/players` route in the `server.py` file, which it finds as the second defined route:\n",
    "\n",
    "```python\n",
    "@app.route('/')\n",
    "def hello():\n",
    "    return render_template('index.html')\n",
    "\n",
    "@app.route('/nhl/players/')\n",
    "def nhl():\n",
    "    return render_template('player.html')\n",
    "```\n",
    "\n",
    "The route that matches is the second one, so the `nhl()` function is called, and the `player.html` file is sent back to the browser from the `views` folder."
   ]
  },
  {
   "cell_type": "markdown",
   "metadata": {},
   "source": [
    "Upon visiting the `/nhl/players/` url, we see the following:"
   ]
  },
  {
   "cell_type": "markdown",
   "metadata": {},
   "source": [
    "<img src=\"./nhl-players.png\" width=\"50%\">"
   ]
  },
  {
   "cell_type": "markdown",
   "metadata": {},
   "source": [
    "### Another look at server.py"
   ]
  },
  {
   "cell_type": "markdown",
   "metadata": {},
   "source": [
    "Now let's focus in on the top portion of the `server.py` file."
   ]
  },
  {
   "cell_type": "markdown",
   "metadata": {},
   "source": [
    "```python\n",
    "from flask import Flask, render_template\n",
    "app = Flask(__name__, static_folder='public', template_folder='views')\n",
    "\n",
    "@app.route('/')\n",
    "def hello():\n",
    "    return render_template('index.html')\n",
    "```"
   ]
  },
  {
   "cell_type": "markdown",
   "metadata": {},
   "source": [
    "We see that at the top, we now need to import two functions from the `flask` module, `Flask` and `render_template`.  This allos us to use the `render_template` function below.\n",
    "\n",
    "Then, when we initialize the Flask app, we specify where the templates are located with the `template_folder = 'views'` keyword argument.  The `static_folder` is to indicate where components like any images would be located."
   ]
  },
  {
   "cell_type": "markdown",
   "metadata": {},
   "source": [
    "### Summary"
   ]
  },
  {
   "cell_type": "markdown",
   "metadata": {},
   "source": [
    "In this lesson, we saw how to use the `render_template` function.  The `render_template` function allows us to write the html is a separate `.html` file.  \n",
    "\n",
    "```python\n",
    "@app.route('/')\n",
    "def hello():\n",
    "    return render_template('index.html')\n",
    "```\n",
    "\n",
    "To use the `render_template` function, we first imported it from the `flask` module.\n",
    "\n",
    "```python\n",
    "from flask import Flask, render_template\n",
    "```"
   ]
  },
  {
   "cell_type": "markdown",
   "metadata": {},
   "source": [
    "And then, because we placed our templates inside of a `views` directory, we specified this when we initialized the Flask application."
   ]
  },
  {
   "cell_type": "markdown",
   "metadata": {},
   "source": [
    "```python\n",
    "app = Flask(__name__, static_folder='public', template_folder='views')\n",
    "```"
   ]
  }
 ],
 "metadata": {
  "kernelspec": {
   "display_name": "Python 3 (ipykernel)",
   "language": "python",
   "name": "python3"
  },
  "language_info": {
   "codemirror_mode": {
    "name": "ipython",
    "version": 3
   },
   "file_extension": ".py",
   "mimetype": "text/x-python",
   "name": "python",
   "nbconvert_exporter": "python",
   "pygments_lexer": "ipython3",
   "version": "3.9.12"
  }
 },
 "nbformat": 4,
 "nbformat_minor": 4
}
