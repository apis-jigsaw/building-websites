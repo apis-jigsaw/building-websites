{
 "cells": [
  {
   "cell_type": "markdown",
   "metadata": {},
   "source": [
    "# Dynamic Templates"
   ]
  },
  {
   "cell_type": "markdown",
   "metadata": {},
   "source": [
    "### Introduction"
   ]
  },
  {
   "cell_type": "markdown",
   "metadata": {},
   "source": [
    "In the last lesson, we saw how to separate our HTML into a `.html` file by using the `render_template` function.  In this lesson, let's see how we can use the `render_template` function in building dynamic websites."
   ]
  },
  {
   "cell_type": "markdown",
   "metadata": {},
   "source": [
    "## Reviewing Dynamic Websites"
   ]
  },
  {
   "cell_type": "markdown",
   "metadata": {},
   "source": [
    "In previous lessons, we saw how to construct dynamic websites without the `render_template` function."
   ]
  },
  {
   "cell_type": "markdown",
   "metadata": {},
   "source": [
    "For example, if we look at the code below, we see a webpage that takes in the user's name from the `url` and returns different HTML to the browser accordingly."
   ]
  },
  {
   "cell_type": "markdown",
   "metadata": {},
   "source": [
    "```python\n",
    "from flask import Flask\n",
    "app = Flask(__name__)\n",
    "\n",
    "@app.route('nhl/players/<name>')\n",
    "def show_player(name):\n",
    "    return f'Welcome to the page of: <h1> {name} </h1>' \n",
    "```"
   ]
  },
  {
   "cell_type": "markdown",
   "metadata": {},
   "source": [
    "[Glitch without render template](https://glitch.com/embed/#!/embed/fanatical-magpie?path=server.py?path=server.py:7:0)"
   ]
  },
  {
   "cell_type": "markdown",
   "metadata": {},
   "source": [
    "### Dynamic Websites with Render Template"
   ]
  },
  {
   "cell_type": "markdown",
   "metadata": {},
   "source": [
    "Now what if we want to separate out our HTML into a separate file with `render_template`, yet also want to make our HTML dynamic?  Somehow, we'll need to pass through the data from our route into that HTML file.  This is the code to accomplish this:"
   ]
  },
  {
   "cell_type": "markdown",
   "metadata": {},
   "source": [
    "```python\n",
    "from flask import Flask, render_template\n",
    "app = Flask(__name__, static_folder='public', template_folder='views')\n",
    "  \n",
    "@app.route('/nhl/players/<name>')\n",
    "def show_player(name):\n",
    "    return render_template('player.html', name=name)\n",
    "```"
   ]
  },
  {
   "cell_type": "markdown",
   "metadata": {},
   "source": [
    "Looking at the server code, we can see that we pass through `name` as an argument to the `render_template` function.  Then, in the `player.html` file we have the following:"
   ]
  },
  {
   "cell_type": "markdown",
   "metadata": {},
   "source": [
    "```html\n",
    "<!-- player.html -->\n",
    "<html>\n",
    "  Welcome to <a href=\"/\">ESPN</a>\n",
    "  <h1>\n",
    "    Welcome to the webpage of {{name}}\n",
    "  </h1>\n",
    "</html>\n",
    "```"
   ]
  },
  {
   "cell_type": "markdown",
   "metadata": {},
   "source": [
    "So everything in the file above is normal HTML, except for the word `{{name}}`.  There, flask will look for the `name` argument passed through to the `render_template` function.  \n",
    "\n",
    "> You can see similar code in Glitch [here](https://glitch.com/edit/#!/probable-spaghetti?path=server.py:10:2)."
   ]
  },
  {
   "cell_type": "markdown",
   "metadata": {},
   "source": [
    "### Getting an Overview"
   ]
  },
  {
   "cell_type": "markdown",
   "metadata": {},
   "source": [
    "Ok, let's start from the beginning as to how a dynamic website works.  Almost all of the relevant code is in the following three lines:"
   ]
  },
  {
   "cell_type": "markdown",
   "metadata": {},
   "source": [
    "```python\n",
    "@app.route('/nhl/players/<name>')\n",
    "def show_player(name):\n",
    "    return render_template('player.html', name=name)\n",
    "```"
   ]
  },
  {
   "cell_type": "markdown",
   "metadata": {},
   "source": [
    "Let's think about what happens, when we have these three lines."
   ]
  },
  {
   "cell_type": "markdown",
   "metadata": {},
   "source": [
    "1. The user makes a request by entering a url on their browser\n",
    "    * For example: `www.espn.com/nhl/players/giroux`"
   ]
  },
  {
   "cell_type": "markdown",
   "metadata": {},
   "source": [
    "2. The request makes it's way to the file that contains the routes of the application\n",
    "    * Here `/nhl/players/giroux` matches the route associated with the `/nhl/players/<name>` route."
   ]
  },
  {
   "cell_type": "markdown",
   "metadata": {},
   "source": [
    "```python\n",
    "from flask import Flask, render_template\n",
    "app = Flask(__name__, static_folder='public', template_folder='views')\n",
    "  \n",
    "@app.route('/nhl/players/<name>')\n",
    "def show_player(name):\n",
    "    return render_template('player.html', name=name)\n",
    "```"
   ]
  },
  {
   "cell_type": "markdown",
   "metadata": {},
   "source": [
    "The `name` from `nhl/players/<name>` is then passed to the `show_player` function.  Then the `render_template` function is executed, and the player's name is passed to the `player.html` file."
   ]
  },
  {
   "cell_type": "markdown",
   "metadata": {},
   "source": [
    "3. In the HTML file"
   ]
  },
  {
   "cell_type": "markdown",
   "metadata": {},
   "source": [
    "In the HTML file, we specify which part of the HTML we wish to be Python with the `{{ }}`."
   ]
  },
  {
   "cell_type": "markdown",
   "metadata": {},
   "source": [
    "```html\n",
    "<!-- player.html -->\n",
    "<html>\n",
    "  Welcome to <a href=\"/\">ESPN</a>\n",
    "  <h1>\n",
    "    Welcome to the webpage of {{name}}\n",
    "  </h1>\n",
    "</html>\n",
    "```"
   ]
  },
  {
   "cell_type": "markdown",
   "metadata": {},
   "source": [
    "So above, where there is `{{name}}` Flask is looking for a `name` argument passed through the `render_template` function."
   ]
  },
  {
   "cell_type": "markdown",
   "metadata": {},
   "source": [
    "4. This response is sent to the user"
   ]
  },
  {
   "cell_type": "markdown",
   "metadata": {},
   "source": [
    "The result of `render_template` is now the return value of the `show_player` function, so this is what is sent back to the user."
   ]
  },
  {
   "cell_type": "markdown",
   "metadata": {},
   "source": [
    "```python\n",
    "@app.route('/nhl/players/<name>')\n",
    "def show_player(name):\n",
    "    return render_template('player.html', name=name)\n",
    "```"
   ]
  },
  {
   "cell_type": "markdown",
   "metadata": {},
   "source": [
    "<img src=\"./claude.png\" width=\"40%\">"
   ]
  },
  {
   "cell_type": "markdown",
   "metadata": {},
   "source": [
    "> See if you can walk through the flow with the [code in glitch](https://glitch.com/edit/#!/probable-spaghetti)."
   ]
  },
  {
   "cell_type": "markdown",
   "metadata": {},
   "source": [
    "### Summary"
   ]
  },
  {
   "cell_type": "markdown",
   "metadata": {},
   "source": [
    "In this function we saw how to create a dynamic website even with our views separated out into a `html` file.  Most of the relevant code was in these three lines:"
   ]
  },
  {
   "cell_type": "markdown",
   "metadata": {},
   "source": [
    "```python\n",
    "@app.route('/nhl/players/<name>')\n",
    "def show_player(name):\n",
    "    return render_template('player.html', name=name)\n",
    "```"
   ]
  },
  {
   "cell_type": "markdown",
   "metadata": {},
   "source": [
    "With the above code, when a user visits `/nhl/players/stamkos`, the value `stamkos` is then passed in as the `name` argument to the `show_player` function.  Then, the `show_player` function calls the `render_template` function, specifying to find the `player.html` file, and with an argument of `name`."
   ]
  },
  {
   "cell_type": "markdown",
   "metadata": {},
   "source": [
    "Finally, in the `player.html` file, the `name` is interpolated by inserting `{{name}}` into the code."
   ]
  },
  {
   "cell_type": "markdown",
   "metadata": {},
   "source": [
    "```html\n",
    "<!-- player.html -->\n",
    "<html>\n",
    "  Welcome to <a href=\"/\">ESPN</a>\n",
    "  <h1>\n",
    "    Welcome to the webpage of {{name}}\n",
    "  </h1>\n",
    "</html>\n",
    "```"
   ]
  }
 ],
 "metadata": {
  "kernelspec": {
   "display_name": "Python 3 (ipykernel)",
   "language": "python",
   "name": "python3"
  },
  "language_info": {
   "codemirror_mode": {
    "name": "ipython",
    "version": 3
   },
   "file_extension": ".py",
   "mimetype": "text/x-python",
   "name": "python",
   "nbconvert_exporter": "python",
   "pygments_lexer": "ipython3",
   "version": "3.9.7"
  }
 },
 "nbformat": 4,
 "nbformat_minor": 4
}
