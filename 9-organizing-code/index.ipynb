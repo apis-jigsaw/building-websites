{
 "cells": [
  {
   "cell_type": "markdown",
   "metadata": {},
   "source": [
    "# Organizing Code"
   ]
  },
  {
   "cell_type": "markdown",
   "metadata": {},
   "source": [
    "### Let's review our previous code"
   ]
  },
  {
   "cell_type": "markdown",
   "metadata": {},
   "source": [
    "```python\n",
    "import sqlite3\n",
    "from flask import Flask, render_template\n",
    "import Player from player\n",
    "\n",
    "app = Flask(__name__, static_folder='public', template_folder='views')\n",
    "\n",
    "app.config.update(dict(\n",
    "    DATABASE=os.path.join(app.root_path, 'nhl.db'),\n",
    "))\n",
    "\n",
    "\n",
    "@app.route('/nhl/players/<player_id>')\n",
    "def show_player(player_id):\n",
    "    conn = sqlite3.connect(app.config['DATABASE'])\n",
    "    cursor = conn.cursor()\n",
    "    cursor.execute('select * from players where id = ?;', player_id)\n",
    "    player_details = cursor.fetchone()\n",
    "    player = Player(*player_details)\n",
    "    return render_template('player.html',  player = player)\n",
    "\n",
    "app.run(debug = True)\n",
    "```"
   ]
  },
  {
   "cell_type": "code",
   "execution_count": null,
   "metadata": {},
   "outputs": [],
   "source": []
  }
 ],
 "metadata": {
  "kernelspec": {
   "display_name": "Python 3 (ipykernel)",
   "language": "python",
   "name": "python3"
  },
  "language_info": {
   "codemirror_mode": {
    "name": "ipython",
    "version": 3
   },
   "file_extension": ".py",
   "mimetype": "text/x-python",
   "name": "python",
   "nbconvert_exporter": "python",
   "pygments_lexer": "ipython3",
   "version": "3.9.7"
  }
 },
 "nbformat": 4,
 "nbformat_minor": 4
}
